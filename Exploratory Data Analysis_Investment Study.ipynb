{
 "cells": [
  {
   "cell_type": "markdown",
   "metadata": {
    "collapsed": true
   },
   "source": [
    "# Load csv file\n",
    "\n",
    "Let's start with getting the datafiles loan.csv."
   ]
  },
  {
   "cell_type": "code",
   "execution_count": 2,
   "metadata": {
    "ExecuteTime": {
     "end_time": "2019-11-16T12:46:20.727378Z",
     "start_time": "2019-11-16T12:46:02.780380Z"
    }
   },
   "outputs": [],
   "source": [
    "# Import the required packages\n",
    "import pandas as pd\n",
    "import numpy as np\n",
    "import matplotlib.pyplot as plt\n",
    "import seaborn as sns"
   ]
  },
  {
   "cell_type": "code",
   "execution_count": 8,
   "metadata": {
    "ExecuteTime": {
     "end_time": "2019-11-16T12:46:28.419161Z",
     "start_time": "2019-11-16T12:46:27.242611Z"
    }
   },
   "outputs": [
    {
     "data": {
      "text/html": [
       "<div>\n",
       "<style scoped>\n",
       "    .dataframe tbody tr th:only-of-type {\n",
       "        vertical-align: middle;\n",
       "    }\n",
       "\n",
       "    .dataframe tbody tr th {\n",
       "        vertical-align: top;\n",
       "    }\n",
       "\n",
       "    .dataframe thead th {\n",
       "        text-align: right;\n",
       "    }\n",
       "</style>\n",
       "<table border=\"1\" class=\"dataframe\">\n",
       "  <thead>\n",
       "    <tr style=\"text-align: right;\">\n",
       "      <th></th>\n",
       "      <th>id</th>\n",
       "      <th>member_id</th>\n",
       "      <th>loan_amnt</th>\n",
       "      <th>funded_amnt</th>\n",
       "      <th>funded_amnt_inv</th>\n",
       "      <th>term</th>\n",
       "      <th>int_rate</th>\n",
       "      <th>installment</th>\n",
       "      <th>grade</th>\n",
       "      <th>sub_grade</th>\n",
       "      <th>...</th>\n",
       "      <th>num_tl_90g_dpd_24m</th>\n",
       "      <th>num_tl_op_past_12m</th>\n",
       "      <th>pct_tl_nvr_dlq</th>\n",
       "      <th>percent_bc_gt_75</th>\n",
       "      <th>pub_rec_bankruptcies</th>\n",
       "      <th>tax_liens</th>\n",
       "      <th>tot_hi_cred_lim</th>\n",
       "      <th>total_bal_ex_mort</th>\n",
       "      <th>total_bc_limit</th>\n",
       "      <th>total_il_high_credit_limit</th>\n",
       "    </tr>\n",
       "  </thead>\n",
       "  <tbody>\n",
       "    <tr>\n",
       "      <th>0</th>\n",
       "      <td>1077501</td>\n",
       "      <td>1296599</td>\n",
       "      <td>5000</td>\n",
       "      <td>5000</td>\n",
       "      <td>4975.0</td>\n",
       "      <td>36 months</td>\n",
       "      <td>10.65%</td>\n",
       "      <td>162.87</td>\n",
       "      <td>B</td>\n",
       "      <td>B2</td>\n",
       "      <td>...</td>\n",
       "      <td>NaN</td>\n",
       "      <td>NaN</td>\n",
       "      <td>NaN</td>\n",
       "      <td>NaN</td>\n",
       "      <td>0.0</td>\n",
       "      <td>0.0</td>\n",
       "      <td>NaN</td>\n",
       "      <td>NaN</td>\n",
       "      <td>NaN</td>\n",
       "      <td>NaN</td>\n",
       "    </tr>\n",
       "    <tr>\n",
       "      <th>1</th>\n",
       "      <td>1077430</td>\n",
       "      <td>1314167</td>\n",
       "      <td>2500</td>\n",
       "      <td>2500</td>\n",
       "      <td>2500.0</td>\n",
       "      <td>60 months</td>\n",
       "      <td>15.27%</td>\n",
       "      <td>59.83</td>\n",
       "      <td>C</td>\n",
       "      <td>C4</td>\n",
       "      <td>...</td>\n",
       "      <td>NaN</td>\n",
       "      <td>NaN</td>\n",
       "      <td>NaN</td>\n",
       "      <td>NaN</td>\n",
       "      <td>0.0</td>\n",
       "      <td>0.0</td>\n",
       "      <td>NaN</td>\n",
       "      <td>NaN</td>\n",
       "      <td>NaN</td>\n",
       "      <td>NaN</td>\n",
       "    </tr>\n",
       "    <tr>\n",
       "      <th>2</th>\n",
       "      <td>1077175</td>\n",
       "      <td>1313524</td>\n",
       "      <td>2400</td>\n",
       "      <td>2400</td>\n",
       "      <td>2400.0</td>\n",
       "      <td>36 months</td>\n",
       "      <td>15.96%</td>\n",
       "      <td>84.33</td>\n",
       "      <td>C</td>\n",
       "      <td>C5</td>\n",
       "      <td>...</td>\n",
       "      <td>NaN</td>\n",
       "      <td>NaN</td>\n",
       "      <td>NaN</td>\n",
       "      <td>NaN</td>\n",
       "      <td>0.0</td>\n",
       "      <td>0.0</td>\n",
       "      <td>NaN</td>\n",
       "      <td>NaN</td>\n",
       "      <td>NaN</td>\n",
       "      <td>NaN</td>\n",
       "    </tr>\n",
       "    <tr>\n",
       "      <th>3</th>\n",
       "      <td>1076863</td>\n",
       "      <td>1277178</td>\n",
       "      <td>10000</td>\n",
       "      <td>10000</td>\n",
       "      <td>10000.0</td>\n",
       "      <td>36 months</td>\n",
       "      <td>13.49%</td>\n",
       "      <td>339.31</td>\n",
       "      <td>C</td>\n",
       "      <td>C1</td>\n",
       "      <td>...</td>\n",
       "      <td>NaN</td>\n",
       "      <td>NaN</td>\n",
       "      <td>NaN</td>\n",
       "      <td>NaN</td>\n",
       "      <td>0.0</td>\n",
       "      <td>0.0</td>\n",
       "      <td>NaN</td>\n",
       "      <td>NaN</td>\n",
       "      <td>NaN</td>\n",
       "      <td>NaN</td>\n",
       "    </tr>\n",
       "    <tr>\n",
       "      <th>4</th>\n",
       "      <td>1075358</td>\n",
       "      <td>1311748</td>\n",
       "      <td>3000</td>\n",
       "      <td>3000</td>\n",
       "      <td>3000.0</td>\n",
       "      <td>60 months</td>\n",
       "      <td>12.69%</td>\n",
       "      <td>67.79</td>\n",
       "      <td>B</td>\n",
       "      <td>B5</td>\n",
       "      <td>...</td>\n",
       "      <td>NaN</td>\n",
       "      <td>NaN</td>\n",
       "      <td>NaN</td>\n",
       "      <td>NaN</td>\n",
       "      <td>0.0</td>\n",
       "      <td>0.0</td>\n",
       "      <td>NaN</td>\n",
       "      <td>NaN</td>\n",
       "      <td>NaN</td>\n",
       "      <td>NaN</td>\n",
       "    </tr>\n",
       "  </tbody>\n",
       "</table>\n",
       "<p>5 rows × 111 columns</p>\n",
       "</div>"
      ],
      "text/plain": [
       "        id  member_id  loan_amnt  funded_amnt  funded_amnt_inv        term  \\\n",
       "0  1077501    1296599       5000         5000           4975.0   36 months   \n",
       "1  1077430    1314167       2500         2500           2500.0   60 months   \n",
       "2  1077175    1313524       2400         2400           2400.0   36 months   \n",
       "3  1076863    1277178      10000        10000          10000.0   36 months   \n",
       "4  1075358    1311748       3000         3000           3000.0   60 months   \n",
       "\n",
       "  int_rate  installment grade sub_grade  ... num_tl_90g_dpd_24m  \\\n",
       "0   10.65%       162.87     B        B2  ...                NaN   \n",
       "1   15.27%        59.83     C        C4  ...                NaN   \n",
       "2   15.96%        84.33     C        C5  ...                NaN   \n",
       "3   13.49%       339.31     C        C1  ...                NaN   \n",
       "4   12.69%        67.79     B        B5  ...                NaN   \n",
       "\n",
       "  num_tl_op_past_12m pct_tl_nvr_dlq  percent_bc_gt_75 pub_rec_bankruptcies  \\\n",
       "0                NaN            NaN               NaN                  0.0   \n",
       "1                NaN            NaN               NaN                  0.0   \n",
       "2                NaN            NaN               NaN                  0.0   \n",
       "3                NaN            NaN               NaN                  0.0   \n",
       "4                NaN            NaN               NaN                  0.0   \n",
       "\n",
       "  tax_liens tot_hi_cred_lim total_bal_ex_mort total_bc_limit  \\\n",
       "0       0.0             NaN               NaN            NaN   \n",
       "1       0.0             NaN               NaN            NaN   \n",
       "2       0.0             NaN               NaN            NaN   \n",
       "3       0.0             NaN               NaN            NaN   \n",
       "4       0.0             NaN               NaN            NaN   \n",
       "\n",
       "  total_il_high_credit_limit  \n",
       "0                        NaN  \n",
       "1                        NaN  \n",
       "2                        NaN  \n",
       "3                        NaN  \n",
       "4                        NaN  \n",
       "\n",
       "[5 rows x 111 columns]"
      ]
     },
     "execution_count": 8,
     "metadata": {},
     "output_type": "execute_result"
    }
   ],
   "source": [
    "# To avoid DtypeWarning of column 47, mention low_memory=False\n",
    "loan = pd.read_csv('loan.csv', low_memory=False)\n",
    "loan.head()\n"
   ]
  },
  {
   "cell_type": "code",
   "execution_count": 4,
   "metadata": {
    "ExecuteTime": {
     "end_time": "2019-11-16T12:46:31.706331Z",
     "start_time": "2019-11-16T12:46:31.694689Z"
    },
    "scrolled": true
   },
   "outputs": [
    {
     "name": "stdout",
     "output_type": "stream",
     "text": [
      "<class 'pandas.core.frame.DataFrame'>\n",
      "RangeIndex: 39717 entries, 0 to 39716\n",
      "Columns: 111 entries, id to total_il_high_credit_limit\n",
      "dtypes: float64(74), int64(13), object(24)\n",
      "memory usage: 33.6+ MB\n",
      "None \n",
      "\n",
      "(39717, 111)\n"
     ]
    }
   ],
   "source": [
    "# Print the structure of the data, it seems because of 111 columns, info() is not displaying\n",
    "print(loan.info(), \"\\n\")\n",
    "print(loan.shape)"
   ]
  },
  {
   "cell_type": "code",
   "execution_count": 5,
   "metadata": {
    "ExecuteTime": {
     "end_time": "2019-11-16T12:46:33.962041Z",
     "start_time": "2019-11-16T12:46:33.948466Z"
    }
   },
   "outputs": [
    {
     "name": "stdout",
     "output_type": "stream",
     "text": [
      "39717\n",
      "39717\n"
     ]
    }
   ],
   "source": [
    "# identify the unique number of id\n",
    "print (len(loan.id.unique()))\n",
    "print (len(loan.member_id.unique()))"
   ]
  },
  {
   "cell_type": "code",
   "execution_count": 6,
   "metadata": {
    "ExecuteTime": {
     "end_time": "2019-11-16T12:46:34.886289Z",
     "start_time": "2019-11-16T12:46:34.787655Z"
    },
    "scrolled": true
   },
   "outputs": [
    {
     "data": {
      "text/plain": [
       "id                              0.0\n",
       "member_id                       0.0\n",
       "loan_amnt                       0.0\n",
       "funded_amnt                     0.0\n",
       "funded_amnt_inv                 0.0\n",
       "                              ...  \n",
       "tax_liens                       0.1\n",
       "tot_hi_cred_lim               100.0\n",
       "total_bal_ex_mort             100.0\n",
       "total_bc_limit                100.0\n",
       "total_il_high_credit_limit    100.0\n",
       "Length: 111, dtype: float64"
      ]
     },
     "execution_count": 6,
     "metadata": {},
     "output_type": "execute_result"
    }
   ],
   "source": [
    "# Summing up the missing values (column-wise) and displaying fraction of NaNs\n",
    "# It seems we have so many columns with 100% missing values\n",
    "round(100*(loan.isnull().sum()/len(loan.index)), 2)"
   ]
  },
  {
   "cell_type": "markdown",
   "metadata": {},
   "source": [
    "# Data Cleansing\n",
    "\n",
    " Fixing Rows and Columns: DataType changes and column values fixing"
   ]
  },
  {
   "cell_type": "code",
   "execution_count": 11,
   "metadata": {
    "ExecuteTime": {
     "end_time": "2019-11-16T12:46:36.429935Z",
     "start_time": "2019-11-16T12:46:36.322727Z"
    }
   },
   "outputs": [
    {
     "data": {
      "text/plain": [
       "0       2011-12-01\n",
       "1       2011-12-01\n",
       "2       2011-12-01\n",
       "3       2011-12-01\n",
       "4       2011-12-01\n",
       "           ...    \n",
       "39712   2007-07-01\n",
       "39713   2007-07-01\n",
       "39714   2007-07-01\n",
       "39715   2007-07-01\n",
       "39716   2007-06-01\n",
       "Name: issue_d, Length: 39717, dtype: datetime64[ns]"
      ]
     },
     "execution_count": 11,
     "metadata": {},
     "output_type": "execute_result"
    }
   ],
   "source": [
    "# Convert string object to date object for below columns\n",
    "loan['issue_d'] = pd.to_datetime(loan['issue_d'], format = '%b-%y')\n",
    "loan['last_pymnt_d'] = pd.to_datetime(loan['last_pymnt_d'], format = '%b-%y')\n",
    "loan['last_credit_pull_d'] = pd.to_datetime(loan['last_credit_pull_d'], format = '%b-%y')\n",
    "loan['issue_d']\n",
    "# Remove % and change the datatype to float\n",
    "loan['int_rate'] = loan['int_rate'].str.rstrip('%').astype('float')"
   ]
  },
  {
   "cell_type": "code",
   "execution_count": 16,
   "metadata": {
    "ExecuteTime": {
     "end_time": "2019-11-16T12:46:37.568704Z",
     "start_time": "2019-11-16T12:46:37.371980Z"
    }
   },
   "outputs": [
    {
     "name": "stdout",
     "output_type": "stream",
     "text": [
      "['36 months', '60 months', '36 months', '36 months', '60 months']\n"
     ]
    }
   ],
   "source": [
    "# It shows there is extra space in column value\n",
    "print (list(loan['term'])[0:5])\n",
    "# Remove the space\n",
    "loan['term'] = loan['term'].str.strip()\n",
    "# Remove the months word from column value and change the datatype\n",
    "loan['term'] = loan['term'].str.split().str[0].astype(int)\n",
    "# Rename the column name\n",
    "loan.rename(columns={'term': 'term_months'}, inplace=True)"
   ]
  },
  {
   "cell_type": "markdown",
   "metadata": {},
   "source": [
    "# Missing values\n",
    "\n",
    "Dropping unnecessary columns and columns with more % of missing values and filling missing values."
   ]
  },
  {
   "cell_type": "code",
   "execution_count": 20,
   "metadata": {
    "ExecuteTime": {
     "end_time": "2019-11-16T12:46:38.625135Z",
     "start_time": "2019-11-16T12:46:38.530902Z"
    }
   },
   "outputs": [],
   "source": [
    "# Let's drop the columns with more than 30% missing values\n",
    "\n",
    "thresh = len(loan)*0.7\n",
    "thresh\n",
    "loan.dropna(thresh = thresh, axis = 1, inplace = True)"
   ]
  },
  {
   "cell_type": "code",
   "execution_count": 18,
   "metadata": {
    "ExecuteTime": {
     "end_time": "2019-11-16T12:46:39.213436Z",
     "start_time": "2019-11-16T12:46:39.148391Z"
    }
   },
   "outputs": [
    {
     "name": "stdout",
     "output_type": "stream",
     "text": [
      "(39717, 111)\n"
     ]
    },
    {
     "data": {
      "text/plain": [
       "id                              0.0\n",
       "member_id                       0.0\n",
       "loan_amnt                       0.0\n",
       "funded_amnt                     0.0\n",
       "funded_amnt_inv                 0.0\n",
       "                              ...  \n",
       "tax_liens                       0.1\n",
       "tot_hi_cred_lim               100.0\n",
       "total_bal_ex_mort             100.0\n",
       "total_bc_limit                100.0\n",
       "total_il_high_credit_limit    100.0\n",
       "Length: 111, dtype: float64"
      ]
     },
     "execution_count": 18,
     "metadata": {},
     "output_type": "execute_result"
    }
   ],
   "source": [
    "# Print the shape of the dataframe\n",
    "print(loan.shape)\n",
    "\n",
    "# Summing up the missing values (column-wise) and displaying fraction of NaNs\n",
    "round(100*(loan.isnull().sum()/len(loan.index)), 2)"
   ]
  },
  {
   "cell_type": "markdown",
   "metadata": {},
   "source": [
    "Now, we have very less missing values for below columns:\n",
    "emp_title, title,revol_util,last_pymnt_d,last_credit_pull_d,collections_12_mths_ex_med,chargeoff_within_12_mths, pub_rec_bankruptcies and tax_liens"
   ]
  },
  {
   "cell_type": "code",
   "execution_count": null,
   "metadata": {
    "ExecuteTime": {
     "end_time": "2019-11-16T12:46:40.386029Z",
     "start_time": "2019-11-16T12:46:40.361600Z"
    }
   },
   "outputs": [],
   "source": [
    "# Let's drop the below unnecessary columns by checking the DataFrame and Data Dictionary\n",
    "loan = loan.drop(['id','member_id','pymnt_plan','emp_title','title','url','zip_code','last_credit_pull_d','out_prncp','out_prncp_inv','collections_12_mths_ex_med','earliest_cr_line','policy_code','initial_list_status','acc_now_delinq','chargeoff_within_12_mths','delinq_amnt','tax_liens'], axis=1)"
   ]
  },
  {
   "cell_type": "code",
   "execution_count": 21,
   "metadata": {
    "ExecuteTime": {
     "end_time": "2019-11-16T12:46:40.932981Z",
     "start_time": "2019-11-16T12:46:40.885109Z"
    }
   },
   "outputs": [
    {
     "name": "stdout",
     "output_type": "stream",
     "text": [
      "(39717, 53)\n"
     ]
    },
    {
     "data": {
      "text/plain": [
       "id                            0.00\n",
       "member_id                     0.00\n",
       "loan_amnt                     0.00\n",
       "funded_amnt                   0.00\n",
       "funded_amnt_inv               0.00\n",
       "term_months                   0.00\n",
       "int_rate                      0.00\n",
       "installment                   0.00\n",
       "grade                         0.00\n",
       "sub_grade                     0.00\n",
       "emp_title                     6.19\n",
       "emp_length                    2.71\n",
       "home_ownership                0.00\n",
       "annual_inc                    0.00\n",
       "verification_status           0.00\n",
       "issue_d                       0.00\n",
       "loan_status                   0.00\n",
       "pymnt_plan                    0.00\n",
       "url                           0.00\n",
       "purpose                       0.00\n",
       "title                         0.03\n",
       "zip_code                      0.00\n",
       "addr_state                    0.00\n",
       "dti                           0.00\n",
       "delinq_2yrs                   0.00\n",
       "earliest_cr_line              0.00\n",
       "inq_last_6mths                0.00\n",
       "open_acc                      0.00\n",
       "pub_rec                       0.00\n",
       "revol_bal                     0.00\n",
       "revol_util                    0.13\n",
       "total_acc                     0.00\n",
       "initial_list_status           0.00\n",
       "out_prncp                     0.00\n",
       "out_prncp_inv                 0.00\n",
       "total_pymnt                   0.00\n",
       "total_pymnt_inv               0.00\n",
       "total_rec_prncp               0.00\n",
       "total_rec_int                 0.00\n",
       "total_rec_late_fee            0.00\n",
       "recoveries                    0.00\n",
       "collection_recovery_fee       0.00\n",
       "last_pymnt_d                  0.18\n",
       "last_pymnt_amnt               0.00\n",
       "last_credit_pull_d            0.01\n",
       "collections_12_mths_ex_med    0.14\n",
       "policy_code                   0.00\n",
       "application_type              0.00\n",
       "acc_now_delinq                0.00\n",
       "chargeoff_within_12_mths      0.14\n",
       "delinq_amnt                   0.00\n",
       "pub_rec_bankruptcies          1.75\n",
       "tax_liens                     0.10\n",
       "dtype: float64"
      ]
     },
     "execution_count": 21,
     "metadata": {},
     "output_type": "execute_result"
    }
   ],
   "source": [
    "# Print the shape of the dataframe\n",
    "print(loan.shape)\n",
    "\n",
    "# Summing up the missing values (column-wise) and displaying fraction of NaNs\n",
    "round(100*(loan.isnull().sum()/len(loan.index)), 2)"
   ]
  },
  {
   "cell_type": "markdown",
   "metadata": {},
   "source": [
    "Let's impute the missing values for below columns:\n",
    "revol_util, last_pymnt_d, pub_rec_bankruptcies"
   ]
  },
  {
   "cell_type": "code",
   "execution_count": 25,
   "metadata": {
    "ExecuteTime": {
     "end_time": "2019-11-16T12:46:42.142344Z",
     "start_time": "2019-11-16T12:46:42.075023Z"
    }
   },
   "outputs": [
    {
     "ename": "AttributeError",
     "evalue": "Can only use .str accessor with string values!",
     "output_type": "error",
     "traceback": [
      "\u001b[0;31m---------------------------------------------------------------------------\u001b[0m",
      "\u001b[0;31mAttributeError\u001b[0m                            Traceback (most recent call last)",
      "\u001b[0;32m<ipython-input-25-30bcd94a678f>\u001b[0m in \u001b[0;36m<module>\u001b[0;34m\u001b[0m\n\u001b[1;32m      1\u001b[0m \u001b[0;31m# Change the format from % to float\u001b[0m\u001b[0;34m\u001b[0m\u001b[0;34m\u001b[0m\u001b[0;34m\u001b[0m\u001b[0m\n\u001b[0;32m----> 2\u001b[0;31m \u001b[0mloan\u001b[0m\u001b[0;34m[\u001b[0m\u001b[0;34m'revol_util'\u001b[0m\u001b[0;34m]\u001b[0m \u001b[0;34m=\u001b[0m \u001b[0mloan\u001b[0m\u001b[0;34m[\u001b[0m\u001b[0;34m'revol_util'\u001b[0m\u001b[0;34m]\u001b[0m\u001b[0;34m.\u001b[0m\u001b[0mstr\u001b[0m\u001b[0;34m.\u001b[0m\u001b[0mrstrip\u001b[0m\u001b[0;34m(\u001b[0m\u001b[0;34m'%'\u001b[0m\u001b[0;34m)\u001b[0m\u001b[0;34m.\u001b[0m\u001b[0mastype\u001b[0m\u001b[0;34m(\u001b[0m\u001b[0;34m'float'\u001b[0m\u001b[0;34m)\u001b[0m\u001b[0;34m/\u001b[0m\u001b[0;36m100\u001b[0m\u001b[0;34m\u001b[0m\u001b[0;34m\u001b[0m\u001b[0m\n\u001b[0m\u001b[1;32m      3\u001b[0m \u001b[0;34m\u001b[0m\u001b[0m\n\u001b[1;32m      4\u001b[0m \u001b[0;31m# summary stats of revol_util\u001b[0m\u001b[0;34m\u001b[0m\u001b[0;34m\u001b[0m\u001b[0;34m\u001b[0m\u001b[0m\n\u001b[1;32m      5\u001b[0m \u001b[0mloan\u001b[0m\u001b[0;34m.\u001b[0m\u001b[0mrevol_util\u001b[0m\u001b[0;34m.\u001b[0m\u001b[0mdescribe\u001b[0m\u001b[0;34m(\u001b[0m\u001b[0;34m)\u001b[0m\u001b[0;34m\u001b[0m\u001b[0;34m\u001b[0m\u001b[0m\n",
      "\u001b[0;32m~/anaconda3/lib/python3.7/site-packages/pandas/core/generic.py\u001b[0m in \u001b[0;36m__getattr__\u001b[0;34m(self, name)\u001b[0m\n\u001b[1;32m   5173\u001b[0m             \u001b[0;32mor\u001b[0m \u001b[0mname\u001b[0m \u001b[0;32min\u001b[0m \u001b[0mself\u001b[0m\u001b[0;34m.\u001b[0m\u001b[0m_accessors\u001b[0m\u001b[0;34m\u001b[0m\u001b[0;34m\u001b[0m\u001b[0m\n\u001b[1;32m   5174\u001b[0m         ):\n\u001b[0;32m-> 5175\u001b[0;31m             \u001b[0;32mreturn\u001b[0m \u001b[0mobject\u001b[0m\u001b[0;34m.\u001b[0m\u001b[0m__getattribute__\u001b[0m\u001b[0;34m(\u001b[0m\u001b[0mself\u001b[0m\u001b[0;34m,\u001b[0m \u001b[0mname\u001b[0m\u001b[0;34m)\u001b[0m\u001b[0;34m\u001b[0m\u001b[0;34m\u001b[0m\u001b[0m\n\u001b[0m\u001b[1;32m   5176\u001b[0m         \u001b[0;32melse\u001b[0m\u001b[0;34m:\u001b[0m\u001b[0;34m\u001b[0m\u001b[0;34m\u001b[0m\u001b[0m\n\u001b[1;32m   5177\u001b[0m             \u001b[0;32mif\u001b[0m \u001b[0mself\u001b[0m\u001b[0;34m.\u001b[0m\u001b[0m_info_axis\u001b[0m\u001b[0;34m.\u001b[0m\u001b[0m_can_hold_identifiers_and_holds_name\u001b[0m\u001b[0;34m(\u001b[0m\u001b[0mname\u001b[0m\u001b[0;34m)\u001b[0m\u001b[0;34m:\u001b[0m\u001b[0;34m\u001b[0m\u001b[0;34m\u001b[0m\u001b[0m\n",
      "\u001b[0;32m~/anaconda3/lib/python3.7/site-packages/pandas/core/accessor.py\u001b[0m in \u001b[0;36m__get__\u001b[0;34m(self, obj, cls)\u001b[0m\n\u001b[1;32m    173\u001b[0m             \u001b[0;31m# we're accessing the attribute of the class, i.e., Dataset.geo\u001b[0m\u001b[0;34m\u001b[0m\u001b[0;34m\u001b[0m\u001b[0;34m\u001b[0m\u001b[0m\n\u001b[1;32m    174\u001b[0m             \u001b[0;32mreturn\u001b[0m \u001b[0mself\u001b[0m\u001b[0;34m.\u001b[0m\u001b[0m_accessor\u001b[0m\u001b[0;34m\u001b[0m\u001b[0;34m\u001b[0m\u001b[0m\n\u001b[0;32m--> 175\u001b[0;31m         \u001b[0maccessor_obj\u001b[0m \u001b[0;34m=\u001b[0m \u001b[0mself\u001b[0m\u001b[0;34m.\u001b[0m\u001b[0m_accessor\u001b[0m\u001b[0;34m(\u001b[0m\u001b[0mobj\u001b[0m\u001b[0;34m)\u001b[0m\u001b[0;34m\u001b[0m\u001b[0;34m\u001b[0m\u001b[0m\n\u001b[0m\u001b[1;32m    176\u001b[0m         \u001b[0;31m# Replace the property with the accessor object. Inspired by:\u001b[0m\u001b[0;34m\u001b[0m\u001b[0;34m\u001b[0m\u001b[0;34m\u001b[0m\u001b[0m\n\u001b[1;32m    177\u001b[0m         \u001b[0;31m# http://www.pydanny.com/cached-property.html\u001b[0m\u001b[0;34m\u001b[0m\u001b[0;34m\u001b[0m\u001b[0;34m\u001b[0m\u001b[0m\n",
      "\u001b[0;32m~/anaconda3/lib/python3.7/site-packages/pandas/core/strings.py\u001b[0m in \u001b[0;36m__init__\u001b[0;34m(self, data)\u001b[0m\n\u001b[1;32m   1915\u001b[0m \u001b[0;34m\u001b[0m\u001b[0m\n\u001b[1;32m   1916\u001b[0m     \u001b[0;32mdef\u001b[0m \u001b[0m__init__\u001b[0m\u001b[0;34m(\u001b[0m\u001b[0mself\u001b[0m\u001b[0;34m,\u001b[0m \u001b[0mdata\u001b[0m\u001b[0;34m)\u001b[0m\u001b[0;34m:\u001b[0m\u001b[0;34m\u001b[0m\u001b[0;34m\u001b[0m\u001b[0m\n\u001b[0;32m-> 1917\u001b[0;31m         \u001b[0mself\u001b[0m\u001b[0;34m.\u001b[0m\u001b[0m_inferred_dtype\u001b[0m \u001b[0;34m=\u001b[0m \u001b[0mself\u001b[0m\u001b[0;34m.\u001b[0m\u001b[0m_validate\u001b[0m\u001b[0;34m(\u001b[0m\u001b[0mdata\u001b[0m\u001b[0;34m)\u001b[0m\u001b[0;34m\u001b[0m\u001b[0;34m\u001b[0m\u001b[0m\n\u001b[0m\u001b[1;32m   1918\u001b[0m         \u001b[0mself\u001b[0m\u001b[0;34m.\u001b[0m\u001b[0m_is_categorical\u001b[0m \u001b[0;34m=\u001b[0m \u001b[0mis_categorical_dtype\u001b[0m\u001b[0;34m(\u001b[0m\u001b[0mdata\u001b[0m\u001b[0;34m)\u001b[0m\u001b[0;34m\u001b[0m\u001b[0;34m\u001b[0m\u001b[0m\n\u001b[1;32m   1919\u001b[0m \u001b[0;34m\u001b[0m\u001b[0m\n",
      "\u001b[0;32m~/anaconda3/lib/python3.7/site-packages/pandas/core/strings.py\u001b[0m in \u001b[0;36m_validate\u001b[0;34m(data)\u001b[0m\n\u001b[1;32m   1965\u001b[0m \u001b[0;34m\u001b[0m\u001b[0m\n\u001b[1;32m   1966\u001b[0m         \u001b[0;32mif\u001b[0m \u001b[0minferred_dtype\u001b[0m \u001b[0;32mnot\u001b[0m \u001b[0;32min\u001b[0m \u001b[0mallowed_types\u001b[0m\u001b[0;34m:\u001b[0m\u001b[0;34m\u001b[0m\u001b[0;34m\u001b[0m\u001b[0m\n\u001b[0;32m-> 1967\u001b[0;31m             \u001b[0;32mraise\u001b[0m \u001b[0mAttributeError\u001b[0m\u001b[0;34m(\u001b[0m\u001b[0;34m\"Can only use .str accessor with string \"\u001b[0m \u001b[0;34m\"values!\"\u001b[0m\u001b[0;34m)\u001b[0m\u001b[0;34m\u001b[0m\u001b[0;34m\u001b[0m\u001b[0m\n\u001b[0m\u001b[1;32m   1968\u001b[0m         \u001b[0;32mreturn\u001b[0m \u001b[0minferred_dtype\u001b[0m\u001b[0;34m\u001b[0m\u001b[0;34m\u001b[0m\u001b[0m\n\u001b[1;32m   1969\u001b[0m \u001b[0;34m\u001b[0m\u001b[0m\n",
      "\u001b[0;31mAttributeError\u001b[0m: Can only use .str accessor with string values!"
     ]
    }
   ],
   "source": [
    "# Change the format from % to float\n",
    "loan['revol_util'] = loan['revol_util'].str.rstrip('%').astype('float')/100\n",
    "\n",
    "# summary stats of revol_util \n",
    "loan.revol_util.describe()"
   ]
  },
  {
   "cell_type": "markdown",
   "metadata": {},
   "source": [
    "Since there is no much spread of data and the difference between mean and median is very small, let's impute the missing values with mean"
   ]
  },
  {
   "cell_type": "code",
   "execution_count": null,
   "metadata": {
    "ExecuteTime": {
     "end_time": "2019-11-16T12:46:43.280527Z",
     "start_time": "2019-11-16T12:46:43.253921Z"
    }
   },
   "outputs": [],
   "source": [
    "# Impute the revol_util column with mean value\n",
    "loan.loc[np.isnan(loan['revol_util']),['revol_util']] = loan['revol_util'].mean()"
   ]
  },
  {
   "cell_type": "code",
   "execution_count": null,
   "metadata": {
    "ExecuteTime": {
     "end_time": "2019-11-16T12:46:43.821332Z",
     "start_time": "2019-11-16T12:46:43.802583Z"
    }
   },
   "outputs": [],
   "source": [
    "# summary stats of revol_util \n",
    "loan.pub_rec_bankruptcies.describe()"
   ]
  },
  {
   "cell_type": "markdown",
   "metadata": {},
   "source": [
    "These are integer type variables and has 0,1,2 values, so we cannot impute the missing values with mode - the most common occurring value."
   ]
  },
  {
   "cell_type": "code",
   "execution_count": null,
   "metadata": {
    "ExecuteTime": {
     "end_time": "2019-11-16T12:46:44.922863Z",
     "start_time": "2019-11-16T12:46:44.897473Z"
    }
   },
   "outputs": [],
   "source": [
    "# Convert to Category type\n",
    "loan['pub_rec_bankruptcies'] = loan['pub_rec_bankruptcies'].astype('category')\n",
    "\n",
    "# Display frequency of each category\n",
    "loan['pub_rec_bankruptcies'].value_counts()"
   ]
  },
  {
   "cell_type": "markdown",
   "metadata": {
    "collapsed": true
   },
   "source": [
    "The most common value of pub_rec_bankruptcies is 0, so let's impute the missing values"
   ]
  },
  {
   "cell_type": "code",
   "execution_count": null,
   "metadata": {
    "ExecuteTime": {
     "end_time": "2019-11-16T12:46:45.949349Z",
     "start_time": "2019-11-16T12:46:45.937718Z"
    }
   },
   "outputs": [],
   "source": [
    "# Impute the pub_rec_bankruptcies column with mode value\n",
    "loan.loc[pd.isnull(loan['pub_rec_bankruptcies']), ['pub_rec_bankruptcies']] = 0"
   ]
  },
  {
   "cell_type": "code",
   "execution_count": null,
   "metadata": {
    "ExecuteTime": {
     "end_time": "2019-11-16T12:46:46.439428Z",
     "start_time": "2019-11-16T12:46:46.427384Z"
    }
   },
   "outputs": [],
   "source": [
    "# It shows that the missing values occurres only for 'Charged Off' loan types\n",
    "print (loan[loan['last_pymnt_d'].isnull()]['loan_status'].unique())\n",
    "\n",
    "# Number of missing values\n",
    "print (loan.last_pymnt_d.isnull().sum())"
   ]
  },
  {
   "cell_type": "markdown",
   "metadata": {},
   "source": [
    "Let's fill the last_pymnt_d date by analysing monthly installment and total_pymnt.\n",
    "installment is the mothly installment who has to pay for taken loan\n",
    "total_pymnt is the payments received to date for total amount funded\n",
    "\n",
    "So, total_pymnt/installment gives the number of months the borrower has paid which means \"last_pymnt_d\""
   ]
  },
  {
   "cell_type": "code",
   "execution_count": null,
   "metadata": {
    "ExecuteTime": {
     "end_time": "2019-11-16T12:46:47.439718Z",
     "start_time": "2019-11-16T12:46:47.407147Z"
    }
   },
   "outputs": [],
   "source": [
    "# Create new derived metric to store the number of months the borrower has paid\n",
    "loan['num_of_mnts_paid'] = round(loan['total_pymnt']/loan['installment'])\n",
    "# Convert the datatype\n",
    "loan['num_of_mnts_paid'] = loan['num_of_mnts_paid'].astype(int)\n",
    "# Display subset data\n",
    "loan.loc[loan['last_pymnt_d'].isnull(), ['funded_amnt','int_rate','installment','issue_d','last_pymnt_d','total_pymnt','num_of_mnts_paid']].head()"
   ]
  },
  {
   "cell_type": "code",
   "execution_count": null,
   "metadata": {
    "ExecuteTime": {
     "end_time": "2019-11-16T12:46:53.904679Z",
     "start_time": "2019-11-16T12:46:48.000362Z"
    }
   },
   "outputs": [],
   "source": [
    "# Create a column to store the last payment date which is created based on 'issue_d','num_of_mnts_paid columns\n",
    "# Add +1 to date_of_mnts_paid as monthly installment will start from issue_d+1\n",
    "loan['date_of_mnts_paid'] = loan.loc[loan['num_of_mnts_paid']!=0, ['issue_d','num_of_mnts_paid']].apply(lambda x: x['issue_d'] + pd.DateOffset(months = x['num_of_mnts_paid']+1), axis=1)\n"
   ]
  },
  {
   "cell_type": "code",
   "execution_count": null,
   "metadata": {
    "ExecuteTime": {
     "end_time": "2019-11-16T12:46:54.128165Z",
     "start_time": "2019-11-16T12:46:54.059446Z"
    }
   },
   "outputs": [],
   "source": [
    "# Fill the missing values of last_pymnt_d column from date_of_mnts_paid column\n",
    "loan['last_pymnt_d'] = loan['last_pymnt_d'].fillna(loan['date_of_mnts_paid'])\n",
    "\n",
    "# Drop the date_of_mnts_paid column which was created for filling missing values\n",
    "loan = loan.drop(['date_of_mnts_paid'], axis=1)\n",
    "\n",
    "# Get the list of observations which were not filled the missing values\n",
    "loan.loc[loan['last_pymnt_d'].isnull(), ['term_months','funded_amnt','int_rate','installment','issue_d','last_pymnt_d','total_pymnt','total_pymnt_inv','total_rec_prncp','total_rec_int','num_of_mnts_paid']]"
   ]
  },
  {
   "cell_type": "markdown",
   "metadata": {
    "collapsed": true
   },
   "source": [
    "As the total_pymnt value is 0, we can't find the number of months, also there is no info about other columns like 'total_pymnt_inv','total_rec_prncp','total_rec_int' and as this is very minimal observations let's drop these 16 observations."
   ]
  },
  {
   "cell_type": "code",
   "execution_count": null,
   "metadata": {
    "ExecuteTime": {
     "end_time": "2019-11-16T12:46:54.291801Z",
     "start_time": "2019-11-16T12:46:54.241013Z"
    }
   },
   "outputs": [],
   "source": [
    "# Drop the 16 observations of missing values of last_pymnt_d\n",
    "loan = loan[pd.notnull(loan['last_pymnt_d'])]\n",
    "\n",
    "# Summing up the missing values (column-wise) and displaying fraction of NaNs\n",
    "round(100*(loan.isnull().sum()/len(loan.index)), 2)"
   ]
  },
  {
   "cell_type": "code",
   "execution_count": null,
   "metadata": {
    "ExecuteTime": {
     "end_time": "2019-11-16T12:46:54.468720Z",
     "start_time": "2019-11-16T12:46:54.411101Z"
    }
   },
   "outputs": [],
   "source": [
    "# Print the unique values of home_ownership\n",
    "print (loan.home_ownership.unique())\n",
    "# Check the number of loans by home_ownership\n",
    "print (loan.home_ownership.value_counts())\n",
    "    \n",
    "# Replace the 'NONE' with 'RENT'(mode of home_ownership column)\n",
    "loan['home_ownership'] = loan.home_ownership.str.replace('NONE','RENT')\n"
   ]
  },
  {
   "cell_type": "code",
   "execution_count": null,
   "metadata": {
    "ExecuteTime": {
     "end_time": "2019-11-16T12:46:54.843743Z",
     "start_time": "2019-11-16T12:46:54.604964Z"
    }
   },
   "outputs": [],
   "source": [
    "# Print the unique values of emp_length\n",
    "print (loan.emp_length.unique())\n",
    "# Check the number of loans by emp_length\n",
    "print (loan.emp_length.value_counts())\n",
    "\n",
    "# Replace the 'n/a' with '10+ years'(mode of emp_length column)\n",
    "loan['emp_length'] = loan.emp_length.str.replace('< 1 year','0')\n",
    "loan['emp_length'] = loan.emp_length.str.replace(' years','')\n",
    "loan['emp_length'] = loan.emp_length.str.replace(' year','')\n",
    "loan['emp_length'] = loan.emp_length.str.replace('+','')\n",
    "loan['emp_length'] = loan.emp_length.str.replace('n/a','10')\n",
    "# Convert datatype\n",
    "loan['emp_length'] = pd.to_numeric(loan['emp_length'])"
   ]
  },
  {
   "cell_type": "markdown",
   "metadata": {},
   "source": [
    "\n",
    "# Exract Type-driven Metrics\n"
   ]
  },
  {
   "cell_type": "code",
   "execution_count": null,
   "metadata": {
    "ExecuteTime": {
     "end_time": "2019-11-16T12:46:54.955050Z",
     "start_time": "2019-11-16T12:46:54.941149Z"
    }
   },
   "outputs": [],
   "source": [
    "# Extract the month, year from issue_d column\n",
    "loan['issued_month'] = loan['issue_d'].dt.month\n",
    "loan['issued_year'] = loan['issue_d'].dt.year"
   ]
  },
  {
   "cell_type": "code",
   "execution_count": null,
   "metadata": {
    "ExecuteTime": {
     "end_time": "2019-11-16T12:46:55.079256Z",
     "start_time": "2019-11-16T12:46:55.069799Z"
    }
   },
   "outputs": [],
   "source": [
    "# Derived Metric: Calculate the Return of Investment(ROI) by (total_pymnt-collection_recovery_fee/funded_amnt)-1\n",
    "loan['roi'] = round(((loan['total_pymnt']-loan['collection_recovery_fee'])/loan['funded_amnt'])-1, 2)\n"
   ]
  },
  {
   "cell_type": "code",
   "execution_count": null,
   "metadata": {
    "ExecuteTime": {
     "end_time": "2019-11-16T12:46:55.227841Z",
     "start_time": "2019-11-16T12:46:55.198660Z"
    }
   },
   "outputs": [],
   "source": [
    "# Create the Segments for Annual Income\n",
    "loan['income_segment'] = pd.cut(loan['annual_inc'],[3000,20000,40000,80000,150000,6000000],labels = ['lower','lower middle','middle','upper middle','upper'])\n",
    "print (loan['income_segment'].unique())\n",
    "\n",
    "# Create the Segments for Interest rate\n",
    "loan['int_rate_segment'] = pd.cut(loan['int_rate'],[4,10,15,20,25],labels = ['5-10','11-15','16-20','21-25'])\n",
    "print (loan['int_rate_segment'].unique())"
   ]
  },
  {
   "cell_type": "code",
   "execution_count": null,
   "metadata": {
    "ExecuteTime": {
     "end_time": "2019-11-16T12:46:55.449452Z",
     "start_time": "2019-11-16T12:46:55.384027Z"
    }
   },
   "outputs": [],
   "source": [
    "# For further analysis, let's filter the loan data by ignoring loan_status of 'Current', since these are currently running loans.\n",
    "loan = loan[loan['loan_status']!='Current']\n",
    "\n",
    "loan.info()"
   ]
  },
  {
   "cell_type": "markdown",
   "metadata": {
    "collapsed": true
   },
   "source": [
    "\n",
    "# Univariate Analysis on Unordered Categorical Variables\n"
   ]
  },
  {
   "cell_type": "code",
   "execution_count": null,
   "metadata": {
    "ExecuteTime": {
     "end_time": "2019-11-16T12:46:58.405589Z",
     "start_time": "2019-11-16T12:46:55.561081Z"
    }
   },
   "outputs": [],
   "source": [
    "# Univariate Analysis on Unordered Categorical variables\n",
    "plt.figure(figsize=(15,10))\n",
    "\n",
    "plt.figure(1)\n",
    "\n",
    "# Distribution of Loans by Status\n",
    "plt.subplot(3,2,1)\n",
    "sns.countplot(x='loan_status', data=loan)\n",
    "plt.title('Distribution of Loan Status')\n",
    "plt.xlabel(\"Loan Status\")\n",
    "plt.ylabel(\"Number of Loans issued\")\n",
    "\n",
    "# Distribution of Loan by Purpose\n",
    "plt.subplot(3,2,2)\n",
    "sns.countplot(y='purpose', data=loan)\n",
    "plt.title('Distribution of Loan by Purpose')\n",
    "plt.xlabel(\"Number of Loans issued\")\n",
    "plt.ylabel(\"Loan Purpose\")\n",
    "\n",
    "# Distribution of Loan by State\n",
    "plt.subplot(3,2,3)\n",
    "sns.countplot(x='addr_state', data=loan)\n",
    "plt.title('Distribution of Loan by State')\n",
    "plt.xlabel(\"Number of Loans issued\")\n",
    "plt.ylabel(\"State\")\n",
    "# To rotate axis text\n",
    "plt.xticks(rotation=90)\n",
    "\n",
    "# Distribution of Loan by Home Ownership\n",
    "plt.subplot(3,2,4)\n",
    "sns.countplot(x='home_ownership', data=loan)\n",
    "plt.title('Distribution of Loan by Home Ownership')\n",
    "plt.xlabel(\"Home Ownership\")\n",
    "plt.ylabel(\"Number of Loans issued\")\n",
    "\n",
    "# Distribution of Loan by Term Month\n",
    "plt.subplot(3,2,5)\n",
    "sns.countplot(x='term_months', data=loan)\n",
    "plt.title('Distribution of Loan by Term Month')\n",
    "plt.xlabel(\"Term Month\")\n",
    "plt.ylabel(\"Number of Loans issued\")\n",
    "\n",
    "# Distribution of Loan by Income Verification Status\n",
    "plt.subplot(3,2,6)\n",
    "sns.countplot(x='verification_status', data=loan)\n",
    "plt.title('Distribution of Loan by Income Verification Status')\n",
    "plt.xlabel(\"Income Verification Status\")\n",
    "plt.ylabel(\"Number of Loans issued\")\n",
    "\n",
    "# To adjust spacing between subplots\n",
    "plt.tight_layout()\n",
    "plt.show()"
   ]
  },
  {
   "cell_type": "markdown",
   "metadata": {},
   "source": [
    "Observation:\n",
    "\n",
    "1) From this dataset, we have more observations(85%) from \"Fully Paid\" status.\n",
    "\n",
    "2) There are more loan applicant's with purpose of debt consolidation.\n",
    "\n",
    "3) There are more loan applicant's from California state.\n",
    "\n",
    "4) Most of the loan applicant's are rented and mortgage.\n",
    "\n",
    "5) There the more number of loan with 36 month term.\n",
    "\n",
    "6) There the more number of loan which were not verified the annual income.\n",
    "\n",
    "Borrowers with own house and want to consolidate debt are not at much risk, but borrower with rent,mortgage and want to consolidate debt are at high risk applicants."
   ]
  },
  {
   "cell_type": "markdown",
   "metadata": {},
   "source": [
    "\n",
    "# Univariate Analysis on Ordered Categorical Variables\n"
   ]
  },
  {
   "cell_type": "code",
   "execution_count": null,
   "metadata": {
    "ExecuteTime": {
     "end_time": "2019-11-16T12:47:01.607122Z",
     "start_time": "2019-11-16T12:46:58.595911Z"
    }
   },
   "outputs": [],
   "source": [
    "# Distribution of Loans by Grade and Sub-Grade\n",
    "plt.figure(figsize=(12,6))\n",
    "\n",
    "plt.figure(1)\n",
    "\n",
    "plt.subplot(2,2,1)\n",
    "sns.countplot( x=\"grade\", data=loan,order = np.sort(loan['grade'].unique()))\n",
    "plt.title(\"Distribution of Loans by Grade\")\n",
    "plt.xlabel(\"Grade\")\n",
    "plt.ylabel(\"Number of Loans issued\")\n",
    "\n",
    "plt.subplot(2,2,2)\n",
    "sns.countplot( x=\"sub_grade\", data=loan, order = np.sort(loan['sub_grade'].unique()))\n",
    "plt.title(\"Distribution of Loans by Sub Grade\")\n",
    "plt.xlabel(\"Sub Grade\")\n",
    "plt.ylabel(\"Number of Loans issued\")\n",
    "\n",
    "# To rotate axis text\n",
    "plt.xticks(rotation=90)\n",
    "\n",
    "\n",
    "# Distribution of Loan Grades by Interest Rate\n",
    "plt.subplot(2,2,3)\n",
    "sns.boxplot(x=\"grade\", y=\"int_rate\", data=loan, order = np.sort(loan['grade'].unique()))\n",
    "plt.title('Distribution of Loan Grades by Interest Rate')\n",
    "plt.xlabel(\"Grade\")\n",
    "plt.ylabel(\"Interest Rate\")\n",
    "\n",
    "# Distribution of Funded Amount by Grade\n",
    "plt.subplot(2,2,4)\n",
    "sns.boxplot(x=\"grade\", y=\"funded_amnt\" , data=loan, order = np.sort(loan['grade'].unique()))\n",
    "plt.title('Distribution of Funded Amount by Grade')\n",
    "plt.xlabel(\"Grade\")\n",
    "plt.ylabel(\"Funded Amount\")\n",
    "plt.yscale('log')\n",
    "\n",
    "# To adjust spacing between subplots\n",
    "plt.tight_layout()\n",
    "\n",
    "plt.show()"
   ]
  },
  {
   "cell_type": "markdown",
   "metadata": {},
   "source": [
    "Observations:\n",
    "\n",
    "1) From above plots, it shows that more number of loans were from B,A and C grade's and least from G grade.\n",
    "\n",
    "2) From Sub grades A4, B3 have more number of loans.\n",
    "\n",
    "3) From 3rd plot, it shows that A,B,C grade loans have less interest rate and E,F,G have high interest rate. From 1st, 2nd plots there are more number of loans from A,B,C grade(granularity check from sub-grades). It might be the reason that the loan applicant's from A,B,C grades have better credit score and lower risk.\n",
    "\n",
    "4) From 4rt plot, it shows that there are high funded amount in A,B,C and D grades as the applicant's from these grades have better credit score and lower risk. \n"
   ]
  },
  {
   "cell_type": "code",
   "execution_count": null,
   "metadata": {
    "ExecuteTime": {
     "end_time": "2019-11-16T12:47:15.843093Z",
     "start_time": "2019-11-16T12:47:15.473496Z"
    }
   },
   "outputs": [],
   "source": [
    "# Distribution of Loans by employment length\n",
    "plt.figure(figsize=(12,6))\n",
    "sns.countplot(x='emp_length', data=loan)\n",
    "plt.title('Distribution of Loans by employment length')\n",
    "plt.xlabel(\"Employment Length\")\n",
    "plt.ylabel(\"Number of Loans issued\")\n",
    "plt.show()"
   ]
  },
  {
   "cell_type": "markdown",
   "metadata": {},
   "source": [
    "Observation:\n",
    "1) The majority of borrowers have been employed for at least 10 years."
   ]
  },
  {
   "cell_type": "code",
   "execution_count": null,
   "metadata": {
    "ExecuteTime": {
     "end_time": "2019-11-16T12:47:18.872677Z",
     "start_time": "2019-11-16T12:47:17.033374Z"
    }
   },
   "outputs": [],
   "source": [
    "# Number of loans issued (by year/month)\n",
    "plt.figure(figsize=(12,6))\n",
    "\n",
    "plt.figure(1)\n",
    "\n",
    "plt.subplot(2,3,1)\n",
    "sns.countplot( x=\"issued_month\", data=loan[loan['issued_year']==2007])\n",
    "plt.title(\"Loans by month of 2007 Year\")\n",
    "plt.xlabel(\"Month\")\n",
    "plt.ylabel(\"Number of Loans issued\")\n",
    "\n",
    "plt.subplot(2,3,2)\n",
    "sns.countplot( x=\"issued_month\", data=loan[loan['issued_year']==2008])\n",
    "plt.title(\"Loans by month of 2008 Year\")\n",
    "plt.xlabel(\"Month\")\n",
    "plt.ylabel(\"Number of Loans issued\")\n",
    "\n",
    "plt.subplot(2,3,3)\n",
    "sns.countplot( x=\"issued_month\", data=loan[loan['issued_year']==2009])\n",
    "plt.title(\"Loans by month of 2009 Year\")\n",
    "plt.xlabel(\"Month\")\n",
    "plt.ylabel(\"Number of Loans issued\")\n",
    "\n",
    "plt.subplot(2,3,4)\n",
    "sns.countplot( x=\"issued_month\", data=loan[loan['issued_year']==2010])\n",
    "plt.title(\"Loans by month of 2010 Year\")\n",
    "plt.xlabel(\"Month\")\n",
    "plt.ylabel(\"Number of Loans issued\")\n",
    "\n",
    "plt.subplot(2,3,5)\n",
    "sns.countplot( x=\"issued_month\", data=loan[loan['issued_year']==2011])\n",
    "plt.title(\"Loans by month of 2011 Year\")\n",
    "plt.xlabel(\"Month\")\n",
    "plt.ylabel(\"Number of Loans issued\")\n",
    "\n",
    "plt.subplot(2,3,6)\n",
    "sns.countplot( x=\"issued_month\", data=loan)\n",
    "plt.title(\"Loans by Month\")\n",
    "plt.xlabel(\"Month\")\n",
    "plt.ylabel(\"Number of Loans issued\")\n",
    "\n",
    "# To adjust spacing between subplots\n",
    "plt.tight_layout()\n",
    "plt.show()"
   ]
  },
  {
   "cell_type": "markdown",
   "metadata": {},
   "source": [
    "Observations:\n",
    "\n",
    "1) From above plots, it shows that more number of loans were issued in 11,12(November, December) months, the reasons could be Festivals(Thanks giving Day, Christmas and New Year).\n",
    "\n",
    "2) In 2008 Year, there was huge spike in 3rd Month.\n",
    "\n",
    "3) Number of loans issued increased steadily with slight descrease in 2008 year."
   ]
  },
  {
   "cell_type": "markdown",
   "metadata": {},
   "source": [
    "\n",
    "# Univariate Analysis on Quantitative Variables\n"
   ]
  },
  {
   "cell_type": "code",
   "execution_count": null,
   "metadata": {
    "ExecuteTime": {
     "end_time": "2019-11-16T12:47:22.354486Z",
     "start_time": "2019-11-16T12:47:22.094030Z"
    }
   },
   "outputs": [],
   "source": [
    "# Let's print descriptive data summary for all numerical columns\n",
    "print (loan[['loan_amnt', 'funded_amnt', 'funded_amnt_inv', 'int_rate', 'installment','annual_inc', 'dti', 'delinq_2yrs','emp_length', 'roi']].describe())\n",
    "print (\"\\n\")\n",
    "print (loan[['inq_last_6mths', 'open_acc', 'pub_rec', 'revol_bal', 'revol_util','total_acc',\n",
    "       'total_pymnt', 'total_pymnt_inv', 'total_rec_prncp', 'total_rec_int','total_rec_late_fee', 'recoveries', 'collection_recovery_fee',\n",
    "        'last_pymnt_amnt', 'application_type','pub_rec_bankruptcies', 'num_of_mnts_paid']].describe())"
   ]
  },
  {
   "cell_type": "markdown",
   "metadata": {},
   "source": [
    "It seems all are fine except annual income(annual_inc). Let's analyse it separatly. "
   ]
  },
  {
   "cell_type": "code",
   "execution_count": null,
   "metadata": {
    "ExecuteTime": {
     "end_time": "2019-11-16T12:47:26.637826Z",
     "start_time": "2019-11-16T12:47:26.616552Z"
    }
   },
   "outputs": [],
   "source": [
    "# It shows that the very high annual income exists after 75th percentile\n",
    "loan['annual_inc'].describe().apply(lambda x: format(x, 'f'))"
   ]
  },
  {
   "cell_type": "code",
   "execution_count": null,
   "metadata": {
    "ExecuteTime": {
     "end_time": "2019-11-16T12:47:28.551498Z",
     "start_time": "2019-11-16T12:47:27.630013Z"
    }
   },
   "outputs": [],
   "source": [
    "# Distribution of Annual income by employment length\n",
    "plt.figure(figsize=(12,6))\n",
    "sns.boxplot(x=\"emp_length\", y=\"annual_inc\" , data=loan)\n",
    "plt.title('Distribution of Annual income by employment length')\n",
    "plt.xlabel(\"Employment Length\")\n",
    "plt.ylabel(\"annual_inc\")\n",
    "plt.yscale('log')\n",
    "plt.show()"
   ]
  },
  {
   "cell_type": "markdown",
   "metadata": {},
   "source": [
    "Observations:\n",
    "\n",
    "1) Almost all 'employment length' category has same level of 25th, 50th(Median) and 75th precentile's.\n",
    "\n",
    "\n",
    "2) It clearly shows that there are high annual income values in almost all 'employment length' category. We can treat these as outliers."
   ]
  },
  {
   "cell_type": "code",
   "execution_count": null,
   "metadata": {
    "ExecuteTime": {
     "end_time": "2019-11-16T12:47:33.252224Z",
     "start_time": "2019-11-16T12:47:31.117351Z"
    }
   },
   "outputs": [],
   "source": [
    "# Frequency distributions\n",
    "plt.figure(figsize=(12,6))\n",
    "\n",
    "plt.figure(1)\n",
    "\n",
    "# Frequency distribution of DTI\n",
    "plt.subplot(2,2,1)\n",
    "sns.distplot(loan[\"dti\"])\n",
    "\n",
    "# Frequency distribution of revolving credit uilization\n",
    "plt.subplot(2,2,2)\n",
    "sns.distplot(loan[\"revol_util\"])\n",
    "\n",
    "# Frequency distribution of ration of open_acc to total_acc\n",
    "plt.subplot(2,2,3)\n",
    "sns.distplot(loan[\"open_acc\"]/loan[\"total_acc\"])\n",
    "plt.xlabel(\"Ratio of open_acc to total_acc\")\n",
    "\n",
    "# Frequency distribution of ration of open_acc to total_acc\n",
    "plt.subplot(2,2,4)\n",
    "sns.distplot(loan[\"roi\"])\n",
    "\n",
    "\n",
    "# To adjust spacing between subplots\n",
    "plt.tight_layout()\n",
    "plt.show()"
   ]
  },
  {
   "cell_type": "markdown",
   "metadata": {},
   "source": [
    "Observations:\n",
    "\n",
    "1) The average debt-to-income ratio is 13%. There doesn’t seem to be much skew, considering the median is so close to the mean.\n",
    "\n",
    "2) The mean of revolving credit utilization is 49%,  which means the average borrower is using most of their revolving credit at a time when they are seeking the loan. Also, there is large spread of data but not much skewed.\n",
    "\n",
    "3) The percentage of open accounts to total accounts seems left skewed.\n",
    "\n",
    "4) Negative ROI indicates defaulted loans while almost all of the loans with positive ROI were fully paid."
   ]
  },
  {
   "cell_type": "markdown",
   "metadata": {},
   "source": [
    "# Summary of Univariate Observations:\n",
    "\n",
    "1) There are 40 variables (so far) with 39717 rows.\n",
    "\n",
    "2) Number of loans issued increased steadily by every year with a slight decrease in 2008.\n",
    "\n",
    "3) Of settled loans, 83% were Fully Paid and 14% were Charged Off.\n",
    "\n",
    "4) Borrowers with own house and want to consolidate debt are not at much risk, but borrower with rent,mortgage and want to  consolidate debt are at high risk applicants.\n",
    "\n",
    "5) Majority of loans were from A, B, and C grade.\n",
    "\n",
    "6) There is an inverse relationship between interest rate and loan grade - lower grades have higher interest rate.\n"
   ]
  },
  {
   "cell_type": "markdown",
   "metadata": {},
   "source": [
    "\n",
    "# Bivariate Analysis on Continuous Variables\n"
   ]
  },
  {
   "cell_type": "code",
   "execution_count": null,
   "metadata": {
    "ExecuteTime": {
     "end_time": "2019-11-16T12:47:44.144074Z",
     "start_time": "2019-11-16T12:47:37.473416Z"
    }
   },
   "outputs": [],
   "source": [
    "# Correlation Plot\n",
    "cor = loan.corr()\n",
    "round(cor,3)\n",
    "plt.figure(figsize=(20,15))\n",
    "sns.heatmap(cor, cmap='YlGnBu', annot=True)\n",
    "plt.show()"
   ]
  },
  {
   "cell_type": "markdown",
   "metadata": {},
   "source": [
    "From above correlation plot it show:\n",
    "\n",
    "1) There are no highly negative correlation between columns.\n",
    "\n",
    "2) There are some highly correlated columns at top and middle left block.\n",
    "\n",
    "3) There is 0.45 correlation between term_months and interest rate(int_rate).\n",
    "\n",
    "4) There is 0.47 correlation between revol_util and interest rate(int_rate).\n",
    "\n",
    "5) There is no much correlation between Annual Income, DTI with other columns."
   ]
  },
  {
   "cell_type": "markdown",
   "metadata": {},
   "source": [
    "Let's check the bivariate distribution for below columns:\n",
    "1) Interest rates vs ROI\n",
    "2) Annual income vs ROI"
   ]
  },
  {
   "cell_type": "code",
   "execution_count": null,
   "metadata": {
    "ExecuteTime": {
     "end_time": "2019-11-16T12:47:57.506074Z",
     "start_time": "2019-11-16T12:47:44.391674Z"
    }
   },
   "outputs": [],
   "source": [
    "# ROI vs Interest Rate and Annual Income\n",
    "plt.figure(figsize=(12,6))\n",
    "\n",
    "sns.set(style=\"darkgrid\", color_codes=True)\n",
    "\n",
    "sns.jointplot(x=\"int_rate\", y=\"roi\", data=loan, kind=\"reg\", color=\"r\")\n",
    "\n",
    "sns.jointplot(x=\"annual_inc\", y=\"roi\", data=loan, kind=\"reg\", color=\"r\")\n",
    "\n",
    "plt.show()"
   ]
  },
  {
   "cell_type": "markdown",
   "metadata": {},
   "source": [
    "Observations:\n",
    "\n",
    "1) There was a positive correlation between interest rates and ROI for borrowers who paid their loans, but for those who didn’t pay the ROI was negative and it shows no correlation with interest rates.\n",
    "\n",
    "2) Borrowers with higher income has positive ROI while borrowers with lower income has negative ROI."
   ]
  },
  {
   "cell_type": "code",
   "execution_count": null,
   "metadata": {
    "ExecuteTime": {
     "end_time": "2019-11-16T12:48:13.908670Z",
     "start_time": "2019-11-16T12:47:57.703964Z"
    }
   },
   "outputs": [],
   "source": [
    "# Annual Income Vs Interest Rate distribution by each grade\n",
    "plt.figure(figsize=(20,15))\n",
    "\n",
    "sns.lmplot( x=\"int_rate\", y=\"annual_inc\", data=loan[loan['grade']=='A'], hue='grade')\n",
    "plt.yscale('log')\n",
    "\n",
    "\n",
    "sns.lmplot( x=\"int_rate\", y=\"annual_inc\", data=loan[loan['grade']=='B'], hue='grade')\n",
    "plt.yscale('log')\n",
    "\n",
    "\n",
    "sns.lmplot( x=\"int_rate\", y=\"annual_inc\", data=loan[loan['grade']=='C'], hue='grade')\n",
    "plt.yscale('log')\n",
    "\n",
    "\n",
    "sns.lmplot( x=\"int_rate\", y=\"annual_inc\", data=loan[loan['grade']=='D'], hue='grade')\n",
    "plt.yscale('log')\n",
    "\n",
    "sns.lmplot( x=\"int_rate\", y=\"annual_inc\", data=loan[loan['grade']=='E'], hue='grade')\n",
    "plt.yscale('log')\n",
    "\n",
    "sns.lmplot( x=\"int_rate\", y=\"annual_inc\", data=loan[loan['grade']=='F'], hue='grade')\n",
    "plt.yscale('log')\n",
    "\n",
    "sns.lmplot( x=\"int_rate\", y=\"annual_inc\", data=loan[loan['grade']=='G'], hue='grade')\n",
    "plt.yscale('log')\n",
    "\n",
    "plt.show()"
   ]
  },
  {
   "cell_type": "markdown",
   "metadata": {},
   "source": [
    "Observations:\n",
    "\n",
    "1) Grade A has borrowers with interest rate between 5-10%.\n",
    "\n",
    "2) Grade B has borrowers with interest rate between 8-13%, but few are there with near 6%.\n",
    "\n",
    "3) Grade C has borrowers with interest rate between 10-16%, but few are there with near 6%.\n",
    "\n",
    "4) Grade D has borrowers with interest rate between 12-18%, but few are there with near 6%.\n",
    "\n",
    "5) Grade E has borrowers with interest rate between 14-20%, but few are there with near 6%.\n",
    "\n",
    "6) Grade F has borrowers with interest rate between 15-23%.\n",
    "\n",
    "7) Grade G has borrowers with interest rate between 17-24%.\n",
    "\n",
    "It is evident that the interest rate range changes from one grade to other, and also there are few borrowers with near 6% falling in B,C,D and E grade's."
   ]
  },
  {
   "cell_type": "code",
   "execution_count": null,
   "metadata": {
    "ExecuteTime": {
     "end_time": "2019-11-16T12:48:27.821090Z",
     "start_time": "2019-11-16T12:48:14.116070Z"
    }
   },
   "outputs": [],
   "source": [
    "# Annual Income Vs DTI distribution by each grade\n",
    "plt.figure(figsize=(20,15))\n",
    "\n",
    "sns.lmplot( x=\"dti\", y=\"annual_inc\", data=loan[loan['grade']=='A'], hue='grade')\n",
    "plt.yscale('log')\n",
    "\n",
    "\n",
    "sns.lmplot( x=\"dti\", y=\"annual_inc\", data=loan[loan['grade']=='B'], hue='grade')\n",
    "plt.yscale('log')\n",
    "\n",
    "\n",
    "sns.lmplot( x=\"dti\", y=\"annual_inc\", data=loan[loan['grade']=='C'], hue='grade')\n",
    "plt.yscale('log')\n",
    "\n",
    "\n",
    "sns.lmplot( x=\"dti\", y=\"annual_inc\", data=loan[loan['grade']=='D'], hue='grade')\n",
    "plt.yscale('log')\n",
    "\n",
    "sns.lmplot( x=\"dti\", y=\"annual_inc\", data=loan[loan['grade']=='E'], hue='grade')\n",
    "plt.yscale('log')\n",
    "\n",
    "sns.lmplot( x=\"dti\", y=\"annual_inc\", data=loan[loan['grade']=='F'], hue='grade')\n",
    "plt.yscale('log')\n",
    "\n",
    "sns.lmplot( x=\"dti\", y=\"annual_inc\", data=loan[loan['grade']=='G'], hue='grade')\n",
    "plt.yscale('log')\n",
    "\n",
    "plt.show()"
   ]
  },
  {
   "cell_type": "markdown",
   "metadata": {},
   "source": [
    "Observations:\n",
    "\n",
    "1) It seems in A,B,C grades the data is spreaded and have DTI from 0-30.\n",
    "\n",
    "2) Lower number of borrowers from 25-30 DTI in D,E grades.\n",
    "\n",
    "3) Grade G has maximum 25 DTI.\n",
    "\n",
    "It seems there is no DTI range constraint from one grade to other similar to interest rate which we have seen above."
   ]
  },
  {
   "cell_type": "markdown",
   "metadata": {},
   "source": [
    "# Bivariate Analysis on Categorical Variables"
   ]
  },
  {
   "cell_type": "markdown",
   "metadata": {},
   "source": [
    "\n",
    "\n",
    "\n",
    "# ROI Bivariate Distribution plots\n"
   ]
  },
  {
   "cell_type": "code",
   "execution_count": null,
   "metadata": {
    "ExecuteTime": {
     "end_time": "2019-11-16T12:48:29.074737Z",
     "start_time": "2019-11-16T12:48:28.007128Z"
    }
   },
   "outputs": [],
   "source": [
    "# ROI vs Employment length by loan_status\n",
    "plt.figure(num=None, figsize=(12,8), dpi=80, facecolor='w', edgecolor='k')\n",
    "sns.boxplot(x=\"emp_length\", y='roi', hue='loan_status',  data=loan)\n",
    "plt.title('Distribution of ROI by Employment length')\n",
    "plt.show()"
   ]
  },
  {
   "cell_type": "markdown",
   "metadata": {},
   "source": [
    "Observations:\n",
    "\n",
    "1) From fully_paid status loan, almost all employment length have same mean ROI.\n",
    "\n",
    "2) From Charged_off status loan 1 years, 2 years and 7 years have low mean ROI."
   ]
  },
  {
   "cell_type": "code",
   "execution_count": null,
   "metadata": {
    "ExecuteTime": {
     "end_time": "2019-11-16T12:48:34.041604Z",
     "start_time": "2019-11-16T12:48:29.256475Z"
    },
    "scrolled": true
   },
   "outputs": [],
   "source": [
    "# ROI vs addr_state by loan_status\n",
    "plt.figure(num=None, figsize=(12,8), dpi=80, facecolor='w', edgecolor='k')\n",
    "sns.boxplot(x=\"addr_state\", y='roi', hue='loan_status',  data=loan)\n",
    "plt.title('Distribution of ROI by State')\n",
    "# To rotate axis text\n",
    "plt.xticks(rotation=90)\n",
    "plt.show()"
   ]
  },
  {
   "cell_type": "markdown",
   "metadata": {},
   "source": [
    "Observations:\n",
    "  From Charged_off status loan UT,VT,MS states have low mean ROI."
   ]
  },
  {
   "cell_type": "code",
   "execution_count": null,
   "metadata": {
    "ExecuteTime": {
     "end_time": "2019-11-16T12:48:35.410217Z",
     "start_time": "2019-11-16T12:48:34.250576Z"
    }
   },
   "outputs": [],
   "source": [
    "# ROI vs Grade by loan_status\n",
    "plt.figure(num=None, figsize=(12,8), dpi=80, facecolor='w', edgecolor='k')\n",
    "sns.boxplot(x=\"grade\", y=\"roi\" ,hue='loan_status', data=loan, order = np.sort(loan['grade'].unique()))\n",
    "plt.title('Distribution of ROI by Grade')\n",
    "plt.show()"
   ]
  },
  {
   "cell_type": "markdown",
   "metadata": {},
   "source": [
    "Observations:\n",
    "\n",
    "1) From fully_paid status loan, grades E,F,G have high mean ROI, this might be high interest rates.\n",
    "\n",
    "2) From Charged_off status loan, grade G has low mean ROI."
   ]
  },
  {
   "cell_type": "code",
   "execution_count": null,
   "metadata": {
    "ExecuteTime": {
     "end_time": "2019-11-16T12:48:37.350809Z",
     "start_time": "2019-11-16T12:48:35.604774Z"
    }
   },
   "outputs": [],
   "source": [
    "# ROI vs Loan Purpose by loan_status\n",
    "plt.figure(num=None, figsize=(12,8), dpi=80, facecolor='w', edgecolor='k')\n",
    "sns.boxplot(x=\"purpose\", y='roi', hue='loan_status', data=loan, order=np.sort(loan['purpose'].unique()))\n",
    "plt.title('Distribution of ROI by Loan Purpose')\n",
    "# To rotate axis text\n",
    "plt.xticks(rotation=90)\n",
    "plt.show()\n"
   ]
  },
  {
   "cell_type": "markdown",
   "metadata": {},
   "source": [
    "Observations:\n",
    "\n",
    "1) From fully_paid status loan, almost all categories have nearby mean ROI.\n",
    "\n",
    "2) From Charged_off status loan, small_business, other and medical have low mean ROI."
   ]
  },
  {
   "cell_type": "code",
   "execution_count": null,
   "metadata": {
    "ExecuteTime": {
     "end_time": "2019-11-16T12:48:38.214641Z",
     "start_time": "2019-11-16T12:48:37.557854Z"
    }
   },
   "outputs": [],
   "source": [
    "# ROI vs Home Ownership by loan_status\n",
    "plt.figure(num=None, figsize=(12,8), dpi=80, facecolor='w', edgecolor='k')\n",
    "sns.boxplot(x=\"home_ownership\", y='roi', hue='loan_status', data=loan, order=np.sort(loan['home_ownership'].unique()))\n",
    "plt.title('Distribution of ROI by Home Ownership')\n",
    "# To rotate axis text\n",
    "plt.xticks(rotation=90)\n",
    "plt.show()"
   ]
  },
  {
   "cell_type": "markdown",
   "metadata": {},
   "source": [
    "Observations:\n",
    "From Charged_off status loan, Rent and Mortgage have low mean ROI."
   ]
  },
  {
   "cell_type": "code",
   "execution_count": null,
   "metadata": {
    "ExecuteTime": {
     "end_time": "2019-11-16T12:48:39.304452Z",
     "start_time": "2019-11-16T12:48:38.432252Z"
    }
   },
   "outputs": [],
   "source": [
    "# ROI vs Income Segment by loan_status\n",
    "plt.figure(num=None, figsize=(12,8), dpi=80, facecolor='w', edgecolor='k')\n",
    "sns.boxplot(x=\"income_segment\", y='roi', hue='loan_status', data=loan, order=['lower','lower middle','middle','upper middle','upper'])\n",
    "plt.title('Distribution of ROI by Income Segment')\n",
    "plt.show()"
   ]
  },
  {
   "cell_type": "markdown",
   "metadata": {},
   "source": [
    "Observations:\n",
    "\n",
    "1) ROI is bit high for upper middle and upper Income_segment for fully paid loans.\n",
    "\n",
    "2) ROI is very low for lower Income_segment for defaulted loans."
   ]
  },
  {
   "cell_type": "code",
   "execution_count": null,
   "metadata": {
    "ExecuteTime": {
     "end_time": "2019-11-16T12:48:40.309212Z",
     "start_time": "2019-11-16T12:48:39.511693Z"
    }
   },
   "outputs": [],
   "source": [
    "# ROI vs Interest rate Segment by loan_status\n",
    "plt.figure(num=None, figsize=(12,8), dpi=80, facecolor='w', edgecolor='k')\n",
    "sns.boxplot(x=\"int_rate_segment\", y='roi', hue='loan_status', data=loan, order=['5-10','11-15','16-20','21-25'])\n",
    "plt.title('Distribution of ROI by Interest rate')\n",
    "plt.show()"
   ]
  },
  {
   "cell_type": "markdown",
   "metadata": {},
   "source": [
    "Observations:\n",
    "\n",
    "1) It is evident that ROI is high when interest rate is high for paid loans.\n",
    "\n",
    "2) On the other hand, ROI is low when interest rate is high for defaulted loans."
   ]
  },
  {
   "cell_type": "markdown",
   "metadata": {},
   "source": [
    "\n",
    "\n",
    "\n",
    "# Interest Rate Bivariate Distribution Plots\n"
   ]
  },
  {
   "cell_type": "code",
   "execution_count": null,
   "metadata": {
    "ExecuteTime": {
     "end_time": "2019-11-16T12:48:40.965078Z",
     "start_time": "2019-11-16T12:48:40.512909Z"
    }
   },
   "outputs": [],
   "source": [
    "# Interest Rate vs loan_status\n",
    "plt.figure(num=None, figsize=(12,8), dpi=80, facecolor='w', edgecolor='k')\n",
    "sns.boxplot(x=\"loan_status\", y='int_rate', data=loan)\n",
    "plt.title('Distribution of Interest Rate by loan_status')\n",
    "# To rotate axis text\n",
    "plt.xticks(rotation=90)\n",
    "plt.show()"
   ]
  },
  {
   "cell_type": "markdown",
   "metadata": {},
   "source": [
    "Observations:\n",
    "It shows that the interest rate is more from defaulters."
   ]
  },
  {
   "cell_type": "code",
   "execution_count": null,
   "metadata": {
    "ExecuteTime": {
     "end_time": "2019-11-16T12:48:41.644501Z",
     "start_time": "2019-11-16T12:48:41.127149Z"
    }
   },
   "outputs": [],
   "source": [
    "# Interest Rate vs Term Months by loan_status\n",
    "plt.figure(num=None, figsize=(12,8), dpi=80, facecolor='w', edgecolor='k')\n",
    "sns.boxplot(x=\"term_months\", y='int_rate', hue='loan_status',  data=loan)\n",
    "plt.title('Distribution of Interest Rate by Term Months')\n",
    "plt.show()"
   ]
  },
  {
   "cell_type": "markdown",
   "metadata": {},
   "source": [
    "Observations:\n",
    "\n",
    "1) It is evident that 60 months term loans have more interest rate.\n",
    "\n",
    "2) There are more defaulters in both 36, 60 month terms because of high interest rates. "
   ]
  },
  {
   "cell_type": "code",
   "execution_count": null,
   "metadata": {
    "ExecuteTime": {
     "end_time": "2019-11-16T12:48:42.901720Z",
     "start_time": "2019-11-16T12:48:41.887020Z"
    }
   },
   "outputs": [],
   "source": [
    "# Interest Rate vs Income Segment by loan_status\n",
    "plt.figure(num=None, figsize=(12,8), dpi=80, facecolor='w', edgecolor='k')\n",
    "sns.boxplot(x=\"income_segment\", y='int_rate', hue='loan_status',  data=loan)\n",
    "plt.title('Distribution of Interest Rate by Income Segment')\n",
    "plt.show()"
   ]
  },
  {
   "cell_type": "markdown",
   "metadata": {},
   "source": [
    "Observations:\n",
    "It shows that, at every income segment, the defaulters are due to high interest rates."
   ]
  },
  {
   "cell_type": "markdown",
   "metadata": {},
   "source": [
    "\n",
    "\n",
    "# DTI Bivariate Distribution Plots\n"
   ]
  },
  {
   "cell_type": "code",
   "execution_count": null,
   "metadata": {
    "ExecuteTime": {
     "end_time": "2019-11-16T12:48:43.975399Z",
     "start_time": "2019-11-16T12:48:43.117985Z"
    }
   },
   "outputs": [],
   "source": [
    "# DTI vs Income Segment by loan_status\n",
    "plt.figure(num=None, figsize=(12,8), dpi=80, facecolor='w', edgecolor='k')\n",
    "sns.boxplot(x=\"income_segment\", y='dti', hue='loan_status', data=loan)\n",
    "plt.title('Distribution of DTI by Income Segment')\n",
    "plt.show()"
   ]
  },
  {
   "cell_type": "markdown",
   "metadata": {},
   "source": [
    "Observations:\n",
    "\n",
    "1) DTI is less in lower segment, as the annual income is less and they might not have any loans and hence less DTI. If we have age details then we can predict more with borrower’s age, income and employment length.\n",
    "\n",
    "2) DTI is high in lower middle and middle segments.\n",
    "\n",
    "3) DTI is less in upper middle and upper segments, as the income is high they might have financial freedom. Note that there are some borrower’s in upper segment who have DTI more than 25."
   ]
  },
  {
   "cell_type": "code",
   "execution_count": null,
   "metadata": {
    "ExecuteTime": {
     "end_time": "2019-11-16T12:48:45.812877Z",
     "start_time": "2019-11-16T12:48:44.154624Z"
    }
   },
   "outputs": [],
   "source": [
    "# DTI vs Loan Purpose by loan_status\n",
    "plt.figure(num=None, figsize=(12,8), dpi=80, facecolor='w', edgecolor='k')\n",
    "sns.boxplot(x=\"purpose\", y='dti', hue='loan_status', data=loan, order=np.sort(loan['purpose'].unique()))\n",
    "plt.title('Distribution of DTI by Loan Purpose')\n",
    "# To rotate axis text\n",
    "plt.xticks(rotation=90)\n",
    "plt.show()"
   ]
  },
  {
   "cell_type": "markdown",
   "metadata": {},
   "source": [
    "Observations:\n",
    "Almost in all categories of purpose, defaulter's DTI is high than fully paid borrowers."
   ]
  },
  {
   "cell_type": "markdown",
   "metadata": {},
   "source": [
    "\n",
    "\n",
    "# Loan Defaulters Analysis \n",
    "\n"
   ]
  },
  {
   "cell_type": "code",
   "execution_count": null,
   "metadata": {
    "ExecuteTime": {
     "end_time": "2019-11-16T12:48:46.314510Z",
     "start_time": "2019-11-16T12:48:46.013299Z"
    }
   },
   "outputs": [],
   "source": [
    "# Distribution of Loan Defaulters by Home Ownerships\n",
    "sns.countplot(x='home_ownership',  data=loan[loan['loan_status']=='Charged Off'])\n",
    "plt.title('Distribution of Loan Defaulters by Home Ownerships')\n",
    "plt.xlabel(\"Home Ownerships\")\n",
    "plt.ylabel(\"Number of Loan Defaulters\")\n",
    "plt.show()\n",
    "\n",
    "print (loan[loan['loan_status']=='Charged Off'].groupby(['home_ownership'])['home_ownership'].count())"
   ]
  },
  {
   "cell_type": "markdown",
   "metadata": {},
   "source": [
    "Observation: It shows there are more defaulters in RENT and MORTGAGE. let's check it in granular level."
   ]
  },
  {
   "cell_type": "code",
   "execution_count": null,
   "metadata": {
    "ExecuteTime": {
     "end_time": "2019-11-16T12:48:46.885276Z",
     "start_time": "2019-11-16T12:48:46.488693Z"
    }
   },
   "outputs": [],
   "source": [
    "#Distribution of Loan Defaulters by Loan Purpose\n",
    "sns.countplot(x='purpose',  data=loan[loan['loan_status']=='Charged Off'], order=np.sort(loan['purpose'].unique()))\n",
    "plt.title('Distribution of Loan Defaulters by Loan Purpose')\n",
    "plt.xlabel(\"Purpose\")\n",
    "plt.ylabel(\"Number of Loan Defaulters\")\n",
    "# To rotate axis text\n",
    "plt.xticks(rotation=90)\n",
    "plt.show()\n",
    "\n",
    "\n",
    "print (loan[loan['loan_status']=='Charged Off'].groupby(['purpose'])['purpose'].count())"
   ]
  },
  {
   "cell_type": "markdown",
   "metadata": {},
   "source": [
    "Observation:\n",
    "\n",
    "1) There are more defaulters from 'debt_consolidation','other', 'credit_card' and 'small_business'. Let's check this at granular level by combining with Home Ownership and by each Grade."
   ]
  },
  {
   "cell_type": "code",
   "execution_count": null,
   "metadata": {
    "ExecuteTime": {
     "end_time": "2019-11-16T12:48:47.793511Z",
     "start_time": "2019-11-16T12:48:47.055444Z"
    }
   },
   "outputs": [],
   "source": [
    "# Distribution of Loan Defaulters by Home Ownerships & Loan Purpose\n",
    "plt.figure(figsize=(12,6))\n",
    "sns.countplot(x='home_ownership', hue='purpose', data=loan[loan['loan_status']=='Charged Off'], palette=\"Set3\")\n",
    "\n",
    "plt.title('Distribution of Loan Defaulters by Home Ownerships & Loan Purpose')\n",
    "plt.xlabel(\"Home Ownerships\")\n",
    "plt.ylabel(\"Number of Loan Defaulters\")\n",
    "plt.tight_layout()\n",
    "plt.show()\n",
    "\n",
    "print (loan[loan['loan_status']=='Charged Off'].groupby(['home_ownership','purpose'])['home_ownership'].count())"
   ]
  },
  {
   "cell_type": "markdown",
   "metadata": {},
   "source": [
    "Observation:\n",
    "\n",
    "1) From RENT category, there are more defaulters from 'debt_consolidation','other', 'credit_card' and 'small_business'.\n",
    "\n",
    "2) From MORTGAGE category, there are more defaulters from 'debt_consolidation','home_improvement', 'credit_card' and 'small_business'.\n",
    "\n",
    "Overall, one should be carefull with 'debt_consolidation', 'credit_card' and 'small_business' loans when the borrowers dont have own house."
   ]
  },
  {
   "cell_type": "code",
   "execution_count": null,
   "metadata": {
    "ExecuteTime": {
     "end_time": "2019-11-16T12:48:48.296748Z",
     "start_time": "2019-11-16T12:48:47.996999Z"
    }
   },
   "outputs": [],
   "source": [
    "#Distribution of Loan Defaulters by Grade\n",
    "sns.countplot(x='grade',  data=loan[loan['loan_status']=='Charged Off'], order=np.sort(loan['grade'].unique()))\n",
    "plt.title('Distribution of Loan Defaulters by Grade')\n",
    "plt.xlabel(\"Grade\")\n",
    "plt.ylabel(\"Number of Loan Defaulters\")\n",
    "plt.show()\n",
    "\n",
    "print (loan[loan['loan_status']=='Charged Off'].groupby(['grade'])['grade'].count())"
   ]
  },
  {
   "cell_type": "markdown",
   "metadata": {},
   "source": [
    "Observation:\n",
    "\n",
    "1) It shows there are more defaulters in B,C and D grades.\n",
    "\n",
    "2) Grades F,G(more intereste rate grades) are having less defaulters which is a good indicator.\n",
    "\n",
    "Let's check it in granular level."
   ]
  },
  {
   "cell_type": "code",
   "execution_count": null,
   "metadata": {
    "ExecuteTime": {
     "end_time": "2019-11-16T12:48:49.534160Z",
     "start_time": "2019-11-16T12:48:48.450557Z"
    }
   },
   "outputs": [],
   "source": [
    "# Distribution of Loan Defaulters by Grade & Loan Purpose\n",
    "plt.figure(figsize=(12,6))\n",
    "sns.countplot(x='grade', hue='purpose', data=loan[loan['loan_status']=='Charged Off'], palette=\"Set3\")\n",
    "\n",
    "plt.title('Distribution of Loan Defaulters by Grade & Loan Purpose')\n",
    "plt.xlabel(\"Grade\")\n",
    "plt.ylabel(\"Number of Loan Defaulters\")\n",
    "plt.tight_layout()\n",
    "plt.show()\n",
    "\n",
    "print (loan[loan['loan_status']=='Charged Off'].groupby(['grade','purpose'])['grade'].count())"
   ]
  },
  {
   "cell_type": "markdown",
   "metadata": {},
   "source": [
    "Observation:\n",
    "\n",
    "1) From all grades, there are more defaulters from 'debt_consolidation', 'others', 'credit_card' and 'small_business' purpose loans."
   ]
  },
  {
   "cell_type": "markdown",
   "metadata": {},
   "source": [
    "# Summary of Bivariate Observations:\n",
    "\n",
    "\n",
    "# Bivariate Analysis on Continuous Variables:\n",
    "\n",
    "#Correlation Plot:\n",
    "\n",
    "a) There were no highly negative correlation between numerical columns.\n",
    "\n",
    "b) 0.45 correlation between term_months and interest rate(int_rate).\n",
    "\n",
    "c) 0.47 correlation between revol_util and interest rate(int_rate).\n",
    "\n",
    "d) No much correlation between Annual Income, DTI with other numerical columns.\n",
    "\n",
    "\n",
    "\n",
    "#ROI vs Interest rates and Annual income:\n",
    "\n",
    "a) There was a positive correlation between interest rates and ROI for borrowers who paid their loans, but for those who didn’t pay the ROI was negative and it shows no correlation with interest rates.                                                        \n",
    "b) Borrowers with higher income has positive ROI while borrowers with lower income has negative ROI.\n",
    "\n",
    "#Annual Income Vs Interest Rate by each grade:\n",
    "\n",
    "By charts, it is evident that the interest rate range changes from one grade to other, and also there are few borrowers with near 6% falling in B,C,D and E grade's.\n",
    "\n",
    "#Annual Income Vs DTI distribution by each grade:\n",
    "\n",
    "By charts, it shows there is no DTI range constraint from one grade to other similar to interest rate which we have seen above.\n",
    "\n",
    "\n",
    "# Bivariate Analysis on Categorical Variables:\n",
    "\n",
    "#ROI Bivariate Distribution plots:\n",
    "\n",
    "1) ROI vs Grade by loan_status: From fully_paid loan, grades E,F,G have high mean ROI, this is because of high interest rates.\n",
    "\n",
    "2) ROI vs Loan Purpose by loan_status: \n",
    "a) From fully_paid loans, almost all categories have nearby mean ROI.\n",
    "b) From Charged_off loan, small_business, other and medical have low mean ROI.\n",
    "\n",
    "3) ROI vs Home Ownership by loan_status: From Charged_off loans, Rent and Mortgage have low mean ROI.\n",
    "\n",
    "4) ROI vs Income Segment by loan_status: \n",
    "a) From fully_paid loans, ROI is bit high for upper middle and upper Income_segment.\n",
    "b) From Charged_off loan, ROI is very low for lower Income_segment.\n",
    "\n",
    "#Interest Rate Bivariate Distribution Plots:\n",
    "\n",
    "1) Interest Rate vs Term Months by loan_status:\n",
    "a) It is evident that 60 months term loans have more interest rate.\n",
    "b) There are more defaulters in both 36, 60 month terms because of high interest rates.\n",
    "\n",
    "2) Interest Rate vs Income Segment by loan_status:\n",
    "a) By charts, it shows that, at every income segment, the defaulters are due to high interest rates.\n",
    "\n",
    "#DTI Bivariate Distribution Plots:\n",
    "\n",
    "1) DTI vs Income Segment by loan_status:\n",
    "a) DTI is less in lower segment, as the annual income is less and they might not have any loans and hence less DTI. If we have age details then we can predict more with borrower’s age, income and employment length.\n",
    "b) DTI is high in lower middle and middle segments.\n",
    "c) DTI is less in upper middle and upper segments, as the income is high they might have financial freedom. Note that there are some borrower’s in upper segment who have DTI more than 25.\n",
    "\n",
    "# Loan Defaulters Analysis:\n",
    "\n",
    "1) Distribution of Loan Defaulters by Loan Purpose:\n",
    "a) There are more defaulters from 'debt_consolidation','other', 'credit_card' and 'small_business'. Let's check this at granular level by combining with Home Ownership and by each Grade.\n",
    "\n",
    "2) Distribution of Loan Defaulters by Home Ownerships:\n",
    "a) By charts, it shows there are more defaulters in RENT and MORTGAGE.\n",
    "\n",
    "3) Distribution of Loan Defaulters by Home Ownerships & Loan Purpose:\n",
    "a) There are more defaulters with 'debt_consolidation', 'credit_card' and 'small_business' purpose from Rent, Mortgage category and hence, should be carefull when borrowers don't have own house.\n",
    "\n",
    "4) Distribution of Loan Defaulters by Grade:\n",
    "a) By charts, it shows there are more defaulters in B,C and D grades.\n",
    "b) Grades F,G(more intereste rate grades) are having less defaulters which is a good indicator.\n",
    "\n",
    "5) Distribution of Loan Defaulters by Grade & Loan Purpose:\n",
    "By charts, from all grades, there are more defaulters from 'debt_consolidation', 'others', 'credit_card' and 'small_business' purpose loans."
   ]
  },
  {
   "cell_type": "markdown",
   "metadata": {},
   "source": [
    "# Conclusion:\n",
    "\n",
    "1) Number of loans issued increased steadily by every year with a slight decrease in 2008.\n",
    "\n",
    "2) Of settled loans, 83% were Fully Paid and 14% were Charged Off.\n",
    "\n",
    "3) Borrowers with own house and the purpose of loan with consolidate debt, 'credit_card' and 'small_business' are not at much risk, but borrower with rent,mortgage are high risk applicants.\n",
    "\n",
    "4) Majority of loans were from A, B, and C grade.\n",
    "\n",
    "5) There is an inverse relationship between interest rate and loan grade - lower grades(E,F,G) have higher interest rate.\n",
    "\n",
    "6) From ROI analysis, it shows that borrowers with the best credit profiles or the lowest loan amounts will not end up being the most profitable and the borrowers who seemed to have worst credit indicators ended up being more profitable from E,F,G grades.\n",
    "\n",
    "7) Overall, there are more defaulters from 'debt_consolidation', 'others', 'credit_card' and 'small_business' purpose loans from all grades."
   ]
  }
 ],
 "metadata": {
  "kernelspec": {
   "display_name": "Python 3",
   "language": "python",
   "name": "python3"
  },
  "language_info": {
   "codemirror_mode": {
    "name": "ipython",
    "version": 3
   },
   "file_extension": ".py",
   "mimetype": "text/x-python",
   "name": "python",
   "nbconvert_exporter": "python",
   "pygments_lexer": "ipython3",
   "version": "3.7.3"
  },
  "toc": {
   "base_numbering": 1,
   "nav_menu": {},
   "number_sections": true,
   "sideBar": true,
   "skip_h1_title": false,
   "title_cell": "Table of Contents",
   "title_sidebar": "Contents",
   "toc_cell": false,
   "toc_position": {},
   "toc_section_display": true,
   "toc_window_display": false
  },
  "varInspector": {
   "cols": {
    "lenName": 16,
    "lenType": 16,
    "lenVar": 40
   },
   "kernels_config": {
    "python": {
     "delete_cmd_postfix": "",
     "delete_cmd_prefix": "del ",
     "library": "var_list.py",
     "varRefreshCmd": "print(var_dic_list())"
    },
    "r": {
     "delete_cmd_postfix": ") ",
     "delete_cmd_prefix": "rm(",
     "library": "var_list.r",
     "varRefreshCmd": "cat(var_dic_list()) "
    }
   },
   "types_to_exclude": [
    "module",
    "function",
    "builtin_function_or_method",
    "instance",
    "_Feature"
   ],
   "window_display": false
  }
 },
 "nbformat": 4,
 "nbformat_minor": 2
}
